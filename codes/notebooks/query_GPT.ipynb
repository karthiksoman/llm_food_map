{
 "cells": [
  {
   "cell_type": "code",
   "execution_count": 1,
   "id": "92681188",
   "metadata": {},
   "outputs": [],
   "source": [
    "from langchain.vectorstores import Chroma\n",
    "from langchain.embeddings.sentence_transformer import SentenceTransformerEmbeddings\n",
    "\n",
    "import chromadb\n"
   ]
  },
  {
   "cell_type": "code",
   "execution_count": 1,
   "id": "778b50b2",
   "metadata": {},
   "outputs": [],
   "source": [
    "def load_sentence_transformer(sentence_embedding_model):\n",
    "    return SentenceTransformerEmbeddings(model_name=sentence_embedding_model)\n",
    "\n",
    "def load_chroma(vector_db_path, sentence_embedding_model):\n",
    "    embedding_function = load_sentence_transformer(sentence_embedding_model)\n",
    "    return Chroma(persist_directory=vector_db_path, embedding_function=embedding_function)\n"
   ]
  },
  {
   "cell_type": "code",
   "execution_count": 43,
   "id": "702a8704",
   "metadata": {},
   "outputs": [],
   "source": [
    "VECTOR_DB_PATH = \"../../data/vectorDB/foodON\"\n",
    "SENTENCE_EMBEDDING_MODEL_FOR_NODE_RETRIEVAL = \"sentence-transformers/all-MiniLM-L6-v2\"\n",
    "COLLECTION_NAME = \"foodON\"\n"
   ]
  },
  {
   "cell_type": "code",
   "execution_count": null,
   "id": "9c059cf3",
   "metadata": {},
   "outputs": [],
   "source": [
    "query = \"Chinese noodles\"\n",
    "\n",
    "vectorstore = load_chroma(VECTOR_DB_PATH, SENTENCE_EMBEDDING_MODEL_FOR_NODE_RETRIEVAL)\n",
    "node_search_result = vectorstore.similarity_search_with_score(query, k=1)"
   ]
  },
  {
   "cell_type": "code",
   "execution_count": 44,
   "id": "b1ef5270",
   "metadata": {},
   "outputs": [],
   "source": [
    "persistent_client = chromadb.PersistentClient(path=VECTOR_DB_PATH)\n",
    "collection = persistent_client.get_collection(COLLECTION_NAME)\n"
   ]
  },
  {
   "cell_type": "code",
   "execution_count": 45,
   "id": "a49b4ed0",
   "metadata": {},
   "outputs": [
    {
     "data": {
      "text/plain": [
       "[Collection(name=langchain), Collection(name=foodON)]"
      ]
     },
     "execution_count": 45,
     "metadata": {},
     "output_type": "execute_result"
    }
   ],
   "source": [
    "persistent_client.list_collections()"
   ]
  },
  {
   "cell_type": "code",
   "execution_count": 46,
   "id": "2d9d4c01",
   "metadata": {},
   "outputs": [],
   "source": [
    "query = \"Chinese noodles\"\n"
   ]
  },
  {
   "cell_type": "code",
   "execution_count": 47,
   "id": "e5b958ab",
   "metadata": {},
   "outputs": [],
   "source": [
    "\n",
    "results = collection.query(\n",
    "    query_texts=[query],\n",
    "    n_results=2)\n"
   ]
  },
  {
   "cell_type": "code",
   "execution_count": 48,
   "id": "f8ad37ce",
   "metadata": {},
   "outputs": [
    {
     "data": {
      "text/plain": [
       "{'ids': [[]],\n",
       " 'distances': [[]],\n",
       " 'metadatas': [[]],\n",
       " 'embeddings': None,\n",
       " 'documents': [[]]}"
      ]
     },
     "execution_count": 48,
     "metadata": {},
     "output_type": "execute_result"
    }
   ],
   "source": [
    "results"
   ]
  },
  {
   "cell_type": "code",
   "execution_count": null,
   "id": "73bc1003",
   "metadata": {},
   "outputs": [],
   "source": []
  }
 ],
 "metadata": {
  "kernelspec": {
   "display_name": "Python 3 (ipykernel)",
   "language": "python",
   "name": "python3"
  },
  "language_info": {
   "codemirror_mode": {
    "name": "ipython",
    "version": 3
   },
   "file_extension": ".py",
   "mimetype": "text/x-python",
   "name": "python",
   "nbconvert_exporter": "python",
   "pygments_lexer": "ipython3",
   "version": "3.10.9"
  }
 },
 "nbformat": 4,
 "nbformat_minor": 5
}
