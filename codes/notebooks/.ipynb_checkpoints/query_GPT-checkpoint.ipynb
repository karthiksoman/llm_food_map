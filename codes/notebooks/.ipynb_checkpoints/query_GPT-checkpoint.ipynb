{
 "cells": [
  {
   "cell_type": "code",
   "execution_count": 1,
   "id": "cfbfae33",
   "metadata": {},
   "outputs": [],
   "source": [
    "from langchain.vectorstores import Chroma\n",
    "from langchain.embeddings.sentence_transformer import SentenceTransformerEmbeddings\n",
    "\n",
    "import chromadb\n"
   ]
  },
  {
   "cell_type": "code",
   "execution_count": 1,
   "id": "2ec1d8f7",
   "metadata": {},
   "outputs": [],
   "source": [
    "def load_sentence_transformer(sentence_embedding_model):\n",
    "    return SentenceTransformerEmbeddings(model_name=sentence_embedding_model)\n",
    "\n",
    "def load_chroma(vector_db_path, sentence_embedding_model):\n",
    "    embedding_function = load_sentence_transformer(sentence_embedding_model)\n",
    "    return Chroma(persist_directory=vector_db_path, embedding_function=embedding_function)\n"
   ]
  },
  {
   "cell_type": "code",
   "execution_count": 15,
   "id": "7df51f6f",
   "metadata": {},
   "outputs": [],
   "source": [
    "VECTOR_DB_PATH = \"../../data/vectorDB\"\n",
    "SENTENCE_EMBEDDING_MODEL_FOR_NODE_RETRIEVAL = \"sentence-transformers/all-MiniLM-L6-v2\"\n",
    "COLLECTION_NAME = \"foodON\"\n"
   ]
  },
  {
   "cell_type": "code",
   "execution_count": 16,
   "id": "747e972c",
   "metadata": {},
   "outputs": [],
   "source": [
    "persistent_client = chromadb.PersistentClient(path=VECTOR_DB_PATH)\n",
    "collection = persistent_client.get_or_create_collection(COLLECTION_NAME)\n"
   ]
  },
  {
   "cell_type": "code",
   "execution_count": 17,
   "id": "09b23f55",
   "metadata": {},
   "outputs": [
    {
     "data": {
      "text/plain": [
       "[Collection(name=langchain), Collection(name=foodON)]"
      ]
     },
     "execution_count": 17,
     "metadata": {},
     "output_type": "execute_result"
    }
   ],
   "source": [
    "persistent_client.list_collections()"
   ]
  },
  {
   "cell_type": "code",
   "execution_count": 18,
   "id": "ed149d67",
   "metadata": {},
   "outputs": [],
   "source": [
    "query = \"Chinese noodles\"\n"
   ]
  },
  {
   "cell_type": "code",
   "execution_count": 19,
   "id": "9f676a42",
   "metadata": {},
   "outputs": [],
   "source": [
    "\n",
    "results = collection.query(\n",
    "    query_texts=[query],\n",
    "    n_results=2)\n"
   ]
  },
  {
   "cell_type": "code",
   "execution_count": 20,
   "id": "b38533c8",
   "metadata": {},
   "outputs": [
    {
     "data": {
      "text/plain": [
       "{'ids': [[]],\n",
       " 'distances': [[]],\n",
       " 'metadatas': [[]],\n",
       " 'embeddings': None,\n",
       " 'documents': [[]]}"
      ]
     },
     "execution_count": 20,
     "metadata": {},
     "output_type": "execute_result"
    }
   ],
   "source": [
    "results"
   ]
  },
  {
   "cell_type": "code",
   "execution_count": null,
   "id": "e239f4ac",
   "metadata": {},
   "outputs": [],
   "source": []
  }
 ],
 "metadata": {
  "kernelspec": {
   "display_name": "Python 3 (ipykernel)",
   "language": "python",
   "name": "python3"
  },
  "language_info": {
   "codemirror_mode": {
    "name": "ipython",
    "version": 3
   },
   "file_extension": ".py",
   "mimetype": "text/x-python",
   "name": "python",
   "nbconvert_exporter": "python",
   "pygments_lexer": "ipython3",
   "version": "3.10.9"
  }
 },
 "nbformat": 4,
 "nbformat_minor": 5
}
