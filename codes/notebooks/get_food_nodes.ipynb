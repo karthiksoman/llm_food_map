{
 "cells": [
  {
   "cell_type": "code",
   "execution_count": 15,
   "id": "63033bdd",
   "metadata": {},
   "outputs": [],
   "source": [
    "import pandas as pd\n",
    "from neo4j import GraphDatabase, basic_auth\n",
    "from dotenv import load_dotenv\n",
    "from tqdm import tqdm\n",
    "import os"
   ]
  },
  {
   "cell_type": "code",
   "execution_count": 16,
   "id": "289a449d",
   "metadata": {},
   "outputs": [],
   "source": [
    "load_dotenv(os.path.join(os.path.expanduser('~'), '.neo4j_config.env'))\n",
    "USER = os.environ.get('SPOKE_USER')\n",
    "PSW = os.environ.get('SPOKE_PSW')\n",
    "URI = os.environ.get('SPOKE_URI')"
   ]
  },
  {
   "cell_type": "code",
   "execution_count": 17,
   "id": "bbc6b067",
   "metadata": {},
   "outputs": [
    {
     "name": "stdout",
     "output_type": "stream",
     "text": [
      "CPU times: user 343 ms, sys: 46.4 ms, total: 389 ms\n",
      "Wall time: 9.24 s\n"
     ]
    }
   ],
   "source": [
    "%%time\n",
    "\n",
    "query = \"\"\"\n",
    "        MATCH(f:Food)\n",
    "        RETURN DISTINCT f.identifier AS f_id, f.name AS f_name\n",
    "\"\"\"\n",
    "\n",
    "auth = basic_auth(USER, PSW)\n",
    "sdb = GraphDatabase.driver(URI, auth=auth)\n",
    "\n",
    "food_list = []\n",
    "with sdb.session() as session:\n",
    "    with session.begin_transaction() as tx:\n",
    "        result = tx.run(query)\n",
    "        for index, row in enumerate(result):\n",
    "            food_list.append((row[\"f_id\"], row[\"f_name\"]))\n",
    "            \n",
    "            \n",
    "food_df = pd.DataFrame(food_list, columns=[\"food_id\", \"food_name\"])\n"
   ]
  },
  {
   "cell_type": "code",
   "execution_count": 18,
   "id": "b3338f5b",
   "metadata": {},
   "outputs": [],
   "source": [
    "food_df.to_csv(\"../../data/foodON.csv\", index=False, header=True)\n"
   ]
  },
  {
   "cell_type": "code",
   "execution_count": null,
   "id": "0f7e9310",
   "metadata": {},
   "outputs": [],
   "source": []
  }
 ],
 "metadata": {
  "kernelspec": {
   "display_name": "Python 3 (ipykernel)",
   "language": "python",
   "name": "python3"
  },
  "language_info": {
   "codemirror_mode": {
    "name": "ipython",
    "version": 3
   },
   "file_extension": ".py",
   "mimetype": "text/x-python",
   "name": "python",
   "nbconvert_exporter": "python",
   "pygments_lexer": "ipython3",
   "version": "3.10.9"
  }
 },
 "nbformat": 4,
 "nbformat_minor": 5
}
