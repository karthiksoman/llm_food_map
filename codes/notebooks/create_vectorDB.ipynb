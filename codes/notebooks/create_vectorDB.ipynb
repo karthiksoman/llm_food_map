{
 "cells": [
  {
   "cell_type": "code",
   "execution_count": 30,
   "id": "31f2e6e4",
   "metadata": {},
   "outputs": [],
   "source": [
    "import pandas as pd\n",
    "from langchain.text_splitter import RecursiveCharacterTextSplitter\n",
    "from langchain.vectorstores import Chroma\n",
    "from langchain.embeddings.sentence_transformer import SentenceTransformerEmbeddings\n",
    "\n",
    "import time\n"
   ]
  },
  {
   "cell_type": "code",
   "execution_count": 31,
   "id": "876c61a2",
   "metadata": {},
   "outputs": [],
   "source": [
    "DATA_PATH = \"../../data/foodON.csv\"\n",
    "CHUNK_SIZE=650\n",
    "CHUNK_OVERLAP=200\n",
    "BATCH_SIZE=200\n",
    "SENTENCE_EMBEDDING_MODEL=\"sentence-transformers/all-MiniLM-L6-v2\"\n",
    "VECTOR_DB_NAME=\"../../data/vectorDB/foodON\"\n"
   ]
  },
  {
   "cell_type": "code",
   "execution_count": 32,
   "id": "982446fd",
   "metadata": {},
   "outputs": [],
   "source": [
    "data_df = pd.read_csv(DATA_PATH)"
   ]
  },
  {
   "cell_type": "code",
   "execution_count": 33,
   "id": "349a3a87",
   "metadata": {},
   "outputs": [],
   "source": [
    "data = list(data_df.food_name)\n",
    "metadata_list = list(data_df.food_id)\n",
    "metadata_list_of_dict = []\n",
    "for i in metadata_list:\n",
    "    metadata_list_of_dict.append({\"foodON_ID\": i})\n",
    "    \n"
   ]
  },
  {
   "cell_type": "code",
   "execution_count": null,
   "id": "c6289ca9",
   "metadata": {},
   "outputs": [],
   "source": [
    "\n",
    "start_time = time.time()\n",
    "text_splitter = RecursiveCharacterTextSplitter(chunk_size=CHUNK_SIZE, chunk_overlap=CHUNK_OVERLAP)\n",
    "docs = text_splitter.create_documents(data, metadatas=metadata_list_of_dict)\n",
    "batches = [docs[i:i + BATCH_SIZE] for i in range(0, len(docs), BATCH_SIZE)]\n",
    "vectorstore = Chroma(embedding_function=SentenceTransformerEmbeddings(model_name=SENTENCE_EMBEDDING_MODEL), \n",
    "                     persist_directory=VECTOR_DB_NAME)\n",
    "for batch in batches:\n",
    "    vectorstore.add_documents(documents=batch)\n",
    "end_time = round((time.time() - start_time)/(60*60), 2)\n",
    "print(\"VectorDB is created in {} hrs\".format(end_time))\n"
   ]
  },
  {
   "cell_type": "code",
   "execution_count": null,
   "id": "87565ecb",
   "metadata": {},
   "outputs": [],
   "source": []
  }
 ],
 "metadata": {
  "kernelspec": {
   "display_name": "Python 3 (ipykernel)",
   "language": "python",
   "name": "python3"
  },
  "language_info": {
   "codemirror_mode": {
    "name": "ipython",
    "version": 3
   },
   "file_extension": ".py",
   "mimetype": "text/x-python",
   "name": "python",
   "nbconvert_exporter": "python",
   "pygments_lexer": "ipython3",
   "version": "3.10.9"
  }
 },
 "nbformat": 4,
 "nbformat_minor": 5
}
